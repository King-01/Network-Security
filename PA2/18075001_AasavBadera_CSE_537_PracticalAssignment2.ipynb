{
  "nbformat": 4,
  "nbformat_minor": 0,
  "metadata": {
    "colab": {
      "name": "18075001_AasavBadera_CSE-537_PracticalAssignment2.ipynb",
      "provenance": [],
      "authorship_tag": "ABX9TyPOC587FKBQqpYO3oCfGL8s",
      "include_colab_link": true
    },
    "kernelspec": {
      "name": "python3",
      "display_name": "Python 3"
    },
    "language_info": {
      "name": "python"
    }
  },
  "cells": [
    {
      "cell_type": "markdown",
      "metadata": {
        "id": "view-in-github",
        "colab_type": "text"
      },
      "source": [
        "<a href=\"https://colab.research.google.com/github/King-01/Network-Security/blob/main/PA2/18075001_AasavBadera_CSE_537_PracticalAssignment2.ipynb\" target=\"_parent\"><img src=\"https://colab.research.google.com/assets/colab-badge.svg\" alt=\"Open In Colab\"/></a>"
      ]
    },
    {
      "cell_type": "code",
      "execution_count": 1,
      "metadata": {
        "id": "67ecQS1j1bML"
      },
      "outputs": [],
      "source": [
        "import matplotlib.pyplot as plt"
      ]
    },
    {
      "cell_type": "code",
      "source": [
        "def bin2hex(s):\n",
        "\tmp = {\"0000\" : '0',\n",
        "\t\t\"0001\" : '1',\n",
        "\t\t\"0010\" : '2',\n",
        "\t\t\"0011\" : '3',\n",
        "\t\t\"0100\" : '4',\n",
        "\t\t\"0101\" : '5',\n",
        "\t\t\"0110\" : '6',\n",
        "\t\t\"0111\" : '7',\n",
        "\t\t\"1000\" : '8',\n",
        "\t\t\"1001\" : '9',\n",
        "\t\t\"1010\" : 'A',\n",
        "\t\t\"1011\" : 'B',\n",
        "\t\t\"1100\" : 'C',\n",
        "\t\t\"1101\" : 'D',\n",
        "\t\t\"1110\" : 'E',\n",
        "\t\t\"1111\" : 'F' }\n",
        "\thex = \"\"\n",
        "\tfor i in range(0,len(s),4):\n",
        "\t\thex += mp[s[i : i + 4]]\n",
        "\t\t\n",
        "\treturn hex"
      ],
      "metadata": {
        "id": "Ahv5mExG2D9U"
      },
      "execution_count": 2,
      "outputs": []
    },
    {
      "cell_type": "code",
      "source": [
        "def hex2bin(s):\n",
        "\tmp = {'0' : \"0000\",\n",
        "\t\t'1' : \"0001\",\n",
        "\t\t'2' : \"0010\",\n",
        "\t\t'3' : \"0011\",\n",
        "\t\t'4' : \"0100\",\n",
        "\t\t'5' : \"0101\",\n",
        "\t\t'6' : \"0110\",\n",
        "\t\t'7' : \"0111\",\n",
        "\t\t'8' : \"1000\",\n",
        "\t\t'9' : \"1001\",\n",
        "\t\t'A' : \"1010\",\n",
        "\t\t'B' : \"1011\",\n",
        "\t\t'C' : \"1100\",\n",
        "\t\t'D' : \"1101\",\n",
        "\t\t'E' : \"1110\",\n",
        "\t\t'F' : \"1111\" }\n",
        "\tbin = \"\".join([mp[i] for i in s])\n",
        "\treturn bin"
      ],
      "metadata": {
        "id": "LSPT44FU183_"
      },
      "execution_count": 3,
      "outputs": []
    },
    {
      "cell_type": "code",
      "source": [
        "def bin2dec(binary):\n",
        "\t\n",
        "\tbinary1 = binary\n",
        "\tdecimal, i, n = 0, 0, 0\n",
        "\twhile(binary != 0):\n",
        "\t\tdec = binary % 10\n",
        "\t\tdecimal = decimal + dec * pow(2, i)\n",
        "\t\tbinary //= 10\n",
        "\t\ti += 1\n",
        "\treturn decimal\n",
        "\n",
        "\n",
        "def dec2bin(num):\n",
        "\tres = bin(num).replace(\"0b\", \"\")\n",
        "\tif(len(res)%4 != 0):\n",
        "\t\tdiv = len(res) / 4\n",
        "\t\tdiv = int(div)\n",
        "\t\tcounter =(4 * (div + 1)) - len(res)\n",
        "\t\tfor i in range(0, counter):\n",
        "\t\t\tres = '0' + res\n",
        "\treturn res\n",
        "\n",
        "def permute(k, arr, n):\n",
        "\tpermutation = \"\"\n",
        "\tfor i in range(0, n):\n",
        "\t\tpermutation = permutation + k[arr[i] - 1]\n",
        "\treturn permutation\n",
        "\n",
        "\n",
        "def shift_left(k, nth_shifts):\n",
        "\ts = \"\"\n",
        "\tfor i in range(nth_shifts):\n",
        "\t\tfor j in range(1,len(k)):\n",
        "\t\t\ts = s + k[j]\n",
        "\t\ts = s + k[0]\n",
        "\t\tk = s\n",
        "\t\ts = \"\"\n",
        "\treturn k\n",
        "\n",
        "\n",
        "def xor(a, b):\n",
        "\tans = \"\"\n",
        "\tfor i in range(len(a)):\n",
        "\t\tif a[i] == b[i]:\n",
        "\t\t\tans = ans + \"0\"\n",
        "\t\telse:\n",
        "\t\t\tans = ans + \"1\"\n",
        "\treturn ans"
      ],
      "metadata": {
        "id": "kNAsgjAF2CET"
      },
      "execution_count": 4,
      "outputs": []
    },
    {
      "cell_type": "code",
      "source": [
        "initial_perm = [58, 50, 42, 34, 26, 18, 10, 2,\n",
        "\t\t\t\t60, 52, 44, 36, 28, 20, 12, 4,\n",
        "\t\t\t\t62, 54, 46, 38, 30, 22, 14, 6,\n",
        "\t\t\t\t64, 56, 48, 40, 32, 24, 16, 8,\n",
        "\t\t\t\t57, 49, 41, 33, 25, 17, 9, 1,\n",
        "\t\t\t\t59, 51, 43, 35, 27, 19, 11, 3,\n",
        "\t\t\t\t61, 53, 45, 37, 29, 21, 13, 5,\n",
        "\t\t\t\t63, 55, 47, 39, 31, 23, 15, 7]\n",
        "\n",
        "exp_d = [32, 1 , 2 , 3 , 4 , 5 , 4 , 5,\n",
        "\t\t6 , 7 , 8 , 9 , 8 , 9 , 10, 11,\n",
        "\t\t12, 13, 12, 13, 14, 15, 16, 17,\n",
        "\t\t16, 17, 18, 19, 20, 21, 20, 21,\n",
        "\t\t22, 23, 24, 25, 24, 25, 26, 27,\n",
        "\t\t28, 29, 28, 29, 30, 31, 32, 1 ]\n",
        "\n",
        "per = [ 16, 7, 20, 21,\n",
        "\t\t29, 12, 28, 17,\n",
        "\t\t1, 15, 23, 26,\n",
        "\t\t5, 18, 31, 10,\n",
        "\t\t2, 8, 24, 14,\n",
        "\t\t32, 27, 3, 9,\n",
        "\t\t19, 13, 30, 6,\n",
        "\t\t22, 11, 4, 25 ]\n",
        "\n",
        "sbox = [[[14, 4, 13, 1, 2, 15, 11, 8, 3, 10, 6, 12, 5, 9, 0, 7],\n",
        "\t\t[ 0, 15, 7, 4, 14, 2, 13, 1, 10, 6, 12, 11, 9, 5, 3, 8],\n",
        "\t\t[ 4, 1, 14, 8, 13, 6, 2, 11, 15, 12, 9, 7, 3, 10, 5, 0],\n",
        "\t\t[15, 12, 8, 2, 4, 9, 1, 7, 5, 11, 3, 14, 10, 0, 6, 13 ]],\n",
        "\t\t\t\n",
        "\t\t[[15, 1, 8, 14, 6, 11, 3, 4, 9, 7, 2, 13, 12, 0, 5, 10],\n",
        "\t\t\t[3, 13, 4, 7, 15, 2, 8, 14, 12, 0, 1, 10, 6, 9, 11, 5],\n",
        "\t\t\t[0, 14, 7, 11, 10, 4, 13, 1, 5, 8, 12, 6, 9, 3, 2, 15],\n",
        "\t\t[13, 8, 10, 1, 3, 15, 4, 2, 11, 6, 7, 12, 0, 5, 14, 9 ]],\n",
        "\n",
        "\t\t[ [10, 0, 9, 14, 6, 3, 15, 5, 1, 13, 12, 7, 11, 4, 2, 8],\n",
        "\t\t[13, 7, 0, 9, 3, 4, 6, 10, 2, 8, 5, 14, 12, 11, 15, 1],\n",
        "\t\t[13, 6, 4, 9, 8, 15, 3, 0, 11, 1, 2, 12, 5, 10, 14, 7],\n",
        "\t\t\t[1, 10, 13, 0, 6, 9, 8, 7, 4, 15, 14, 3, 11, 5, 2, 12 ]],\n",
        "\t\n",
        "\t\t[ [7, 13, 14, 3, 0, 6, 9, 10, 1, 2, 8, 5, 11, 12, 4, 15],\n",
        "\t\t[13, 8, 11, 5, 6, 15, 0, 3, 4, 7, 2, 12, 1, 10, 14, 9],\n",
        "\t\t[10, 6, 9, 0, 12, 11, 7, 13, 15, 1, 3, 14, 5, 2, 8, 4],\n",
        "\t\t\t[3, 15, 0, 6, 10, 1, 13, 8, 9, 4, 5, 11, 12, 7, 2, 14] ],\n",
        "\t\t\n",
        "\t\t[ [2, 12, 4, 1, 7, 10, 11, 6, 8, 5, 3, 15, 13, 0, 14, 9],\n",
        "\t\t[14, 11, 2, 12, 4, 7, 13, 1, 5, 0, 15, 10, 3, 9, 8, 6],\n",
        "\t\t\t[4, 2, 1, 11, 10, 13, 7, 8, 15, 9, 12, 5, 6, 3, 0, 14],\n",
        "\t\t[11, 8, 12, 7, 1, 14, 2, 13, 6, 15, 0, 9, 10, 4, 5, 3 ]],\n",
        "\t\n",
        "\t\t[ [12, 1, 10, 15, 9, 2, 6, 8, 0, 13, 3, 4, 14, 7, 5, 11],\n",
        "\t\t[10, 15, 4, 2, 7, 12, 9, 5, 6, 1, 13, 14, 0, 11, 3, 8],\n",
        "\t\t\t[9, 14, 15, 5, 2, 8, 12, 3, 7, 0, 4, 10, 1, 13, 11, 6],\n",
        "\t\t\t[4, 3, 2, 12, 9, 5, 15, 10, 11, 14, 1, 7, 6, 0, 8, 13] ],\n",
        "\t\t\n",
        "\t\t[ [4, 11, 2, 14, 15, 0, 8, 13, 3, 12, 9, 7, 5, 10, 6, 1],\n",
        "\t\t[13, 0, 11, 7, 4, 9, 1, 10, 14, 3, 5, 12, 2, 15, 8, 6],\n",
        "\t\t\t[1, 4, 11, 13, 12, 3, 7, 14, 10, 15, 6, 8, 0, 5, 9, 2],\n",
        "\t\t\t[6, 11, 13, 8, 1, 4, 10, 7, 9, 5, 0, 15, 14, 2, 3, 12] ],\n",
        "\t\t\n",
        "\t\t[ [13, 2, 8, 4, 6, 15, 11, 1, 10, 9, 3, 14, 5, 0, 12, 7],\n",
        "\t\t\t[1, 15, 13, 8, 10, 3, 7, 4, 12, 5, 6, 11, 0, 14, 9, 2],\n",
        "\t\t\t[7, 11, 4, 1, 9, 12, 14, 2, 0, 6, 10, 13, 15, 3, 5, 8],\n",
        "\t\t\t[2, 1, 14, 7, 4, 10, 8, 13, 15, 12, 9, 0, 3, 5, 6, 11] ] ]\n",
        "\n",
        "final_perm = [ 40, 8, 48, 16, 56, 24, 64, 32,\n",
        "\t\t\t39, 7, 47, 15, 55, 23, 63, 31,\n",
        "\t\t\t38, 6, 46, 14, 54, 22, 62, 30,\n",
        "\t\t\t37, 5, 45, 13, 53, 21, 61, 29,\n",
        "\t\t\t36, 4, 44, 12, 52, 20, 60, 28,\n",
        "\t\t\t35, 3, 43, 11, 51, 19, 59, 27,\n",
        "\t\t\t34, 2, 42, 10, 50, 18, 58, 26,\n",
        "\t\t\t33, 1, 41, 9, 49, 17, 57, 25 ]"
      ],
      "metadata": {
        "id": "JHoDKCSZ2sdS"
      },
      "execution_count": 5,
      "outputs": []
    },
    {
      "cell_type": "code",
      "source": [
        "def encrypt(pt, round_key_binary, round_key_hexa):\n",
        "\tpt = hex2bin(pt)\n",
        "\t\n",
        "\tpt = permute(pt, initial_perm, 64)\n",
        "\tl = []\n",
        "\tleft = pt[0:32]\n",
        "\tright = pt[32:64]\n",
        "\tfor i in range(0, 16):\n",
        "\t\tright_expanded = permute(right, exp_d, 48)\n",
        "\t\t\n",
        "\t\txor_x = xor(right_expanded, round_key_binary[i])\n",
        "\n",
        "\t\tsbox_str = \"\"\n",
        "\t\tfor j in range(0, 8):\n",
        "\t\t\trow = bin2dec(int(xor_x[j * 6] + xor_x[j * 6 + 5]))\n",
        "\t\t\tcol = bin2dec(int(xor_x[j * 6 + 1] + xor_x[j * 6 + 2] + xor_x[j * 6 + 3] + xor_x[j * 6 + 4]))\n",
        "\t\t\tval = sbox[j][row][col]\n",
        "\t\t\tsbox_str = sbox_str + dec2bin(val)\n",
        "\t\t\t\n",
        "\t\tsbox_str = permute(sbox_str, per, 32)\n",
        "\n",
        "\t\tresult = xor(left, sbox_str)\n",
        "\t\tleft = result\n",
        "\t\t\n",
        "\t\tif(i != 15):\n",
        "\t\t\tleft, right = right, left\n",
        "\t\tl.append(left+right)\n",
        "\n",
        "\tcombine = left + right\n",
        "\t\n",
        "\treturn l"
      ],
      "metadata": {
        "id": "zshYGtsz2utZ"
      },
      "execution_count": 6,
      "outputs": []
    },
    {
      "cell_type": "code",
      "source": [
        "pt = [\"FEDFC6F6E30E86AB\",\"6EDFC6F6E50E86AB\",\"6EDFC6A6E30E86AB\",\"6EDFC6F6E30E8FAB\",\"6EDFC6F6E20E86AB\"]\n",
        "key = \"390A5A8C5141A9A4\"\n",
        "ot = \"6EDFC6F6E30E86AB\"\n",
        "\n",
        "\n",
        "key = hex2bin(key)\n",
        "\n",
        "key_comp = [14, 17, 11, 24, 1, 5,\n",
        "\t\t\t3, 28, 15, 6, 21, 10,\n",
        "\t\t\t23, 19, 12, 4, 26, 8,\n",
        "\t\t\t16, 7, 27, 20, 13, 2,\n",
        "\t\t\t41, 52, 31, 37, 47, 55,\n",
        "\t\t\t30, 40, 51, 45, 33, 48,\n",
        "\t\t\t44, 49, 39, 56, 34, 53,\n",
        "\t\t\t46, 42, 50, 36, 29, 32 ]\n",
        "            \n",
        "shift_table = [1, 1, 2, 2,\n",
        "\t\t\t\t2, 2, 2, 2,\n",
        "\t\t\t\t1, 2, 2, 2,\n",
        "\t\t\t\t2, 2, 2, 1 ]\n",
        "\n",
        "keyp = [57, 49, 41, 33, 25, 17, 9,\n",
        "\t\t1, 58, 50, 42, 34, 26, 18,\n",
        "\t\t10, 2, 59, 51, 43, 35, 27,\n",
        "\t\t19, 11, 3, 60, 52, 44, 36,\n",
        "\t\t63, 55, 47, 39, 31, 23, 15,\n",
        "\t\t7, 62, 54, 46, 38, 30, 22,\n",
        "\t\t14, 6, 61, 53, 45, 37, 29,\n",
        "\t\t21, 13, 5, 28, 20, 12, 4 ]\n",
        "\n",
        "key, left, right = permute(key, keyp, 56), key[0:28], key[28:56]\n",
        "\n",
        "round_key_binary, round_key_hexa = [], []\n",
        "for i in range(16):\n",
        "\tleft, right = shift_left(left, shift_table[i]), shift_left(right, shift_table[i])\n",
        "\tcombine_str = left + right\n",
        "\tround_key = permute(combine_str, key_comp, 48)\n",
        "\tround_key_binary.append(round_key)\n",
        "\tround_key_hexa.append(bin2hex(round_key))\n",
        "\n",
        "\n",
        "matrix=[[] for i in range(16)]\n",
        "\n",
        "def hamming_dist(s,t):\n",
        "  return sum([s[i] != t[i] for i in range(len(s))])\n",
        "\n",
        "for i in range(len(pt)):\n",
        "  l, r = encrypt(pt[i], round_key_binary, round_key_hexa), []\n",
        "  for j in range(len(l)):\n",
        "    r.append(hamming_dist(ot,bin2hex(l[j])))\n",
        "  for j in range(16):\n",
        "    matrix[j].append(r[j])\n",
        "\n",
        "print(matrix)\n",
        "\n",
        "plt.boxplot(matrix)\n",
        "plt.ylabel('Hamming Distance')\n",
        "plt.title('Avalanche Effect')\n",
        "plt.xlabel('Rounds of DES')\n",
        "plt.ylim(11,17)\n",
        "plt.show()"
      ],
      "metadata": {
        "colab": {
          "base_uri": "https://localhost:8080/",
          "height": 334
        },
        "id": "4TBYEWHv2xTX",
        "outputId": "df5b5943-ad6c-49ba-b21a-7d3d938ca491"
      },
      "execution_count": 7,
      "outputs": [
        {
          "output_type": "stream",
          "name": "stdout",
          "text": [
            "[[14, 15, 12, 13, 13], [16, 15, 13, 13, 14], [16, 14, 16, 16, 13], [14, 16, 14, 14, 13], [15, 16, 15, 15, 15], [16, 14, 16, 16, 13], [16, 14, 14, 15, 16], [15, 16, 16, 13, 15], [16, 16, 16, 15, 12], [15, 14, 16, 15, 15], [14, 15, 16, 16, 16], [15, 15, 16, 15, 14], [14, 16, 15, 15, 16], [13, 16, 15, 13, 16], [14, 16, 15, 15, 16], [13, 16, 14, 16, 16]]\n"
          ]
        },
        {
          "output_type": "display_data",
          "data": {
            "image/png": "[encoded data removed]",
            "text/plain": [
              "<Figure size 432x288 with 1 Axes>"
            ]
          },
          "metadata": {
            "needs_background": "light"
          }
        }
      ]
    },
    {
      "cell_type": "code",
      "source": [
        "pt = [\"6EDFC6F6E30EA6AB\",\"1EDFC6F6E30E86AA\",\"6EBFC6F6A30E8FAB\",\"6ED1C6FCE30286AE\",\"1E2FC3F6E40E85AB\"]\n",
        "key = \"390A5A8C5141A9A4\"\n",
        "ot = \"6EDFC6F6E30E86AB\"\n",
        "\n",
        "\n",
        "key = hex2bin(key)\n",
        "\n",
        "keyp = [57, 49, 41, 33, 25, 17, 9,\n",
        "\t\t1, 58, 50, 42, 34, 26, 18,\n",
        "\t\t10, 2, 59, 51, 43, 35, 27,\n",
        "\t\t19, 11, 3, 60, 52, 44, 36,\n",
        "\t\t63, 55, 47, 39, 31, 23, 15,\n",
        "\t\t7, 62, 54, 46, 38, 30, 22,\n",
        "\t\t14, 6, 61, 53, 45, 37, 29,\n",
        "\t\t21, 13, 5, 28, 20, 12, 4 ]\n",
        "\n",
        "shift_table = [1, 1, 2, 2,\n",
        "\t\t\t\t2, 2, 2, 2,\n",
        "\t\t\t\t1, 2, 2, 2,\n",
        "\t\t\t\t2, 2, 2, 1 ]\n",
        "\n",
        "key_comp = [14, 17, 11, 24, 1, 5,\n",
        "\t\t\t3, 28, 15, 6, 21, 10,\n",
        "\t\t\t23, 19, 12, 4, 26, 8,\n",
        "\t\t\t16, 7, 27, 20, 13, 2,\n",
        "\t\t\t41, 52, 31, 37, 47, 55,\n",
        "\t\t\t30, 40, 51, 45, 33, 48,\n",
        "\t\t\t44, 49, 39, 56, 34, 53,\n",
        "\t\t\t46, 42, 50, 36, 29, 32 ]\n",
        "\n",
        "key, left, right = permute(key, keyp, 56), key[0:28], key[28:56]\n",
        "\n",
        "round_key_binary, round_key_hexa = [], []\n",
        "for i in range(16):\n",
        "\tleft, right = shift_left(left, shift_table[i]), shift_left(right, shift_table[i])\n",
        "\tcombine_str = left + right\n",
        "\tround_key = permute(combine_str, key_comp, 48)\n",
        "\tround_key_binary.append(round_key)\n",
        "\tround_key_hexa.append(bin2hex(round_key))\n",
        "\n",
        "matrix=[[] for i in range(16)]\n",
        "\n",
        "def hamming_dist(s,t):\n",
        "  return sum([s[i] != t[i] for i in range(len(s))])\n",
        "\n",
        "for i in range(len(pt)):\n",
        "  l, r = encrypt(pt[i], round_key_binary, round_key_hexa), []\n",
        "  for j in range(len(l)):\n",
        "    r.append(hamming_dist(ot,bin2hex(l[j])))\n",
        "  for j in range(16):\n",
        "    matrix[j].append(r[j])\n",
        "\n",
        "print(matrix)\n",
        "\n",
        "plt.boxplot(matrix)\n",
        "plt.ylabel('Hamming Distance')\n",
        "plt.title('Avalanche Effect')\n",
        "plt.xlabel('Rounds of DES')\n",
        "plt.ylim(11,17)\n",
        "plt.show()"
      ],
      "metadata": {
        "colab": {
          "base_uri": "https://localhost:8080/",
          "height": 334
        },
        "id": "WIls_1DS2zwK",
        "outputId": "13df1041-a4b0-45f1-bc9a-5bd14ecfbd1d"
      },
      "execution_count": 8,
      "outputs": [
        {
          "output_type": "stream",
          "name": "stdout",
          "text": [
            "[[12, 12, 13, 13, 16], [15, 14, 15, 16, 14], [14, 13, 15, 14, 16], [16, 15, 14, 16, 15], [14, 14, 13, 16, 16], [15, 14, 16, 15, 16], [13, 16, 16, 16, 15], [14, 15, 15, 16, 14], [15, 15, 16, 15, 14], [15, 15, 16, 13, 16], [16, 14, 14, 15, 15], [16, 14, 14, 15, 16], [16, 16, 14, 15, 16], [14, 13, 15, 16, 16], [16, 15, 16, 15, 16], [16, 15, 15, 14, 16]]\n"
          ]
        },
        {
          "output_type": "display_data",
          "data": {
            "image/png": "[encoded data removed]",
            "text/plain": [
              "<Figure size 432x288 with 1 Axes>"
            ]
          },
          "metadata": {
            "needs_background": "light"
          }
        }
      ]
    },
    {
      "cell_type": "code",
      "source": [
        "\n",
        "def hamming_dist(s,t):\n",
        "  return sum([s[i] != t[i] for i in range(len(s))])\n",
        "\n",
        "original_key = \"390A5A8C5141A9A4\"\n",
        "key_list = [\"392A5A8C5141A9A4\",\"390A5A8C5141ACA4\",\"390A5A0C5141A9A4\",\"390A5ABC5141A9A4\",\"090A5A8C5141A9A4\"]\n",
        "pt = \"6EDFC6F6E30E86AB\"\n",
        "\n",
        "matrix=[]\n",
        "for i in range(16):\n",
        "  matrix.append([])\n",
        "\n",
        "for key in key_list:\n",
        "  key = hex2bin(key)\n",
        "\n",
        "  keyp = [57, 49, 41, 33, 25, 17, 9,\n",
        "      1, 58, 50, 42, 34, 26, 18,\n",
        "      10, 2, 59, 51, 43, 35, 27,\n",
        "      19, 11, 3, 60, 52, 44, 36,\n",
        "      63, 55, 47, 39, 31, 23, 15,\n",
        "      7, 62, 54, 46, 38, 30, 22,\n",
        "      14, 6, 61, 53, 45, 37, 29,\n",
        "      21, 13, 5, 28, 20, 12, 4 ]\n",
        "\n",
        "  key = permute(key, keyp, 56)\n",
        "\n",
        "  shift_table = [1, 1, 2, 2,\n",
        "          2, 2, 2, 2,\n",
        "          1, 2, 2, 2,\n",
        "          2, 2, 2, 1 ]\n",
        "\n",
        "  key_comp = [14, 17, 11, 24, 1, 5,\n",
        "        3, 28, 15, 6, 21, 10,\n",
        "        23, 19, 12, 4, 26, 8,\n",
        "        16, 7, 27, 20, 13, 2,\n",
        "        41, 52, 31, 37, 47, 55,\n",
        "        30, 40, 51, 45, 33, 48,\n",
        "        44, 49, 39, 56, 34, 53,\n",
        "        46, 42, 50, 36, 29, 32 ]\n",
        "        \n",
        "\n",
        "  left = key[0:28]\n",
        "  right = key[28:56]\n",
        "\n",
        "  round_key_binary = []\n",
        "  round_key_hexa = []\n",
        "  for i in range(0, 16):\n",
        "    left = shift_left(left, shift_table[i])\n",
        "    right = shift_left(right, shift_table[i])\n",
        "    \n",
        "    combine_str = left + right\n",
        "    \n",
        "    round_key = permute(combine_str, key_comp, 48)\n",
        "\n",
        "    round_key_binary.append(round_key)\n",
        "    round_key_hexa.append(bin2hex(round_key))\n",
        "\n",
        "  l = encrypt(pt, round_key_binary, round_key_hexa)\n",
        "  r=[]\n",
        "  for y in l:\n",
        "    r.append(hamming_dist(original_key,bin2hex(y)))\n",
        "  for i in range(0,16):\n",
        "    matrix[i].append(r[i])\n",
        "\n",
        "print(matrix)\n",
        "\n",
        "plt.boxplot(matrix)\n",
        "plt.ylabel('Hamming Distance')\n",
        "plt.title('Avalanche Effect')\n",
        "plt.xlabel('Rounds of DES')\n",
        "plt.ylim(11,17)\n",
        "plt.show()"
      ],
      "metadata": {
        "colab": {
          "base_uri": "https://localhost:8080/",
          "height": 334
        },
        "id": "MDP7Lyd622zQ",
        "outputId": "4aa7f92e-ac89-4290-cb40-154045e2de49"
      },
      "execution_count": 9,
      "outputs": [
        {
          "output_type": "stream",
          "name": "stdout",
          "text": [
            "[[12, 13, 13, 15, 14], [15, 15, 15, 13, 15], [15, 16, 15, 16, 14], [15, 16, 14, 15, 14], [16, 15, 15, 16, 16], [16, 15, 16, 13, 15], [15, 16, 16, 16, 16], [16, 15, 16, 16, 14], [15, 14, 14, 14, 16], [15, 13, 16, 15, 15], [14, 14, 16, 15, 16], [16, 15, 15, 16, 16], [15, 15, 15, 16, 15], [15, 16, 15, 15, 14], [12, 15, 15, 14, 14], [15, 16, 16, 15, 16]]\n"
          ]
        },
        {
          "output_type": "display_data",
          "data": {
            "image/png": "[encoded data removed]",
            "text/plain": [
              "<Figure size 432x288 with 1 Axes>"
            ]
          },
          "metadata": {
            "needs_background": "light"
          }
        }
      ]
    }
  ]
}